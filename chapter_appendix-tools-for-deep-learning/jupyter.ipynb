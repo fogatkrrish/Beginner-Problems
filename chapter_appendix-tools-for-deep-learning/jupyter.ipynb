{
  "cells": [
    {
      "cell_type": "code",
      "source": [
        "#Q1\n",
        "#ROLL Number: 022\n",
        "a=10\n",
        "b=20\n",
        "print(\"The values are:\", a, b)\n"
      ],
      "metadata": {
        "id": "KBJJECEJ7_CI",
        "outputId": "63ec776b-2366-430e-9fe4-db00430074b7",
        "colab": {
          "base_uri": "https://localhost:8080/"
        }
      },
      "id": "KBJJECEJ7_CI",
      "execution_count": 50,
      "outputs": [
        {
          "output_type": "stream",
          "name": "stdout",
          "text": [
            "The values are: 10 20\n"
          ]
        }
      ]
    },
    {
      "cell_type": "code",
      "source": [
        "#Q2\n",
        "#ROLL Number: 022\n",
        "a=18\n",
        "print(f\"I am {a} years old\")"
      ],
      "metadata": {
        "id": "FvbgFtlL86FA",
        "outputId": "657bd0f3-b6ae-4e9e-9b9b-64e30dc1a88f",
        "colab": {
          "base_uri": "https://localhost:8080/"
        }
      },
      "id": "FvbgFtlL86FA",
      "execution_count": 51,
      "outputs": [
        {
          "output_type": "stream",
          "name": "stdout",
          "text": [
            "I am 18 years old\n"
          ]
        }
      ]
    },
    {
      "cell_type": "code",
      "source": [
        "3\n",
        "#ROLL Number: 022\n",
        "a=1\n",
        "name=\"fogat\"\n",
        "print(\"Value of a is:\", a)\n",
        "print(\"Value of name is:\", name)\n"
      ],
      "metadata": {
        "id": "wt-sunoJ86RE",
        "outputId": "86390e44-6cb1-40f8-d6ad-fe737d650b90",
        "colab": {
          "base_uri": "https://localhost:8080/"
        }
      },
      "id": "wt-sunoJ86RE",
      "execution_count": 52,
      "outputs": [
        {
          "output_type": "stream",
          "name": "stdout",
          "text": [
            "Value of a is: 1\n",
            "Value of name is: fogat\n"
          ]
        }
      ]
    },
    {
      "cell_type": "code",
      "source": [
        "#Q4 (a)\n",
        "#ROLL Number: 022\n",
        "a, b, c=1, 2, 3\n",
        "print(f\"a is {a}, b is {b}, cis {c}\")\n"
      ],
      "metadata": {
        "id": "fKgLGZU286UL",
        "outputId": "dc04eeef-c8ee-4c36-eaf0-f344af5eec90",
        "colab": {
          "base_uri": "https://localhost:8080/"
        }
      },
      "id": "fKgLGZU286UL",
      "execution_count": 53,
      "outputs": [
        {
          "output_type": "stream",
          "name": "stdout",
          "text": [
            "a is 1, b is 2, cis 3\n"
          ]
        }
      ]
    },
    {
      "cell_type": "code",
      "source": [
        "#Q4(b)\n",
        "#ROLL Number: 022\n",
        "a=b=c=1\n",
        "print(f\"a is {a}, b is {b}, cis {c}\")"
      ],
      "metadata": {
        "id": "xHO2kbv386X0",
        "outputId": "421d09ec-60c3-4c3e-aae5-29606cd1e1e1",
        "colab": {
          "base_uri": "https://localhost:8080/"
        }
      },
      "id": "xHO2kbv386X0",
      "execution_count": 54,
      "outputs": [
        {
          "output_type": "stream",
          "name": "stdout",
          "text": [
            "a is 1, b is 1, cis 1\n"
          ]
        }
      ]
    },
    {
      "cell_type": "code",
      "source": [
        "#Q5\n",
        "#ROLL Number: 022\n",
        "print(\"2025\", \"07\", \"20\", sep=\"/\")\n"
      ],
      "metadata": {
        "id": "P9XS00Ca9e_R",
        "outputId": "f3458cbf-a568-41ad-c54a-44ced4995f1c",
        "colab": {
          "base_uri": "https://localhost:8080/"
        }
      },
      "id": "P9XS00Ca9e_R",
      "execution_count": 55,
      "outputs": [
        {
          "output_type": "stream",
          "name": "stdout",
          "text": [
            "2025/07/20\n"
          ]
        }
      ]
    },
    {
      "cell_type": "markdown",
      "source": [
        "#Q7\n",
        "#ROLL Number: 022\n",
        "#Ans: Values are 1 and Ram."
      ],
      "metadata": {
        "id": "L8Pb_ldv94RW"
      },
      "id": "L8Pb_ldv94RW"
    },
    {
      "cell_type": "code",
      "source": [
        "#Q8\n",
        "#ROLL Number: 022\n",
        "a=1\n",
        "name=\"fogat\"\n",
        "pi=3.14\n",
        "state=True\n",
        "print(\"Type of a is \", type(a))\n",
        "print(\"Type of name is \", type(name))\n",
        "print(\"Type of pi is \", type(pi))\n",
        "print(\"Type of state is \", type(state))"
      ],
      "metadata": {
        "id": "1jaelJXE9xHf",
        "outputId": "291b87a8-0c89-4a98-c5d6-d952529fe4b4",
        "colab": {
          "base_uri": "https://localhost:8080/"
        }
      },
      "id": "1jaelJXE9xHf",
      "execution_count": 56,
      "outputs": [
        {
          "output_type": "stream",
          "name": "stdout",
          "text": [
            "Type of a is  <class 'int'>\n",
            "Type of name is  <class 'str'>\n",
            "Type of pi is  <class 'float'>\n",
            "Type of state is  <class 'bool'>\n"
          ]
        }
      ]
    },
    {
      "cell_type": "markdown",
      "source": [
        "#Q9\n",
        "#ROLL Number: 022\n",
        "#Ans: The variables are 'a', 'name', 'pi', 'state'."
      ],
      "metadata": {
        "id": "vk1HwYXi-E6D"
      },
      "id": "vk1HwYXi-E6D"
    },
    {
      "cell_type": "markdown",
      "source": [],
      "metadata": {
        "id": "_faFv62E-Euu"
      },
      "id": "_faFv62E-Euu"
    },
    {
      "cell_type": "markdown",
      "source": [
        "#10\n",
        "#ROLL Number: 022\n",
        "#23_test='PSAT'\n",
        "#if='PSAT '\n"
      ],
      "metadata": {
        "id": "b8ZMXyN4-H_y"
      },
      "id": "b8ZMXyN4-H_y"
    },
    {
      "cell_type": "code",
      "source": [
        "#Q11\n",
        "#ROLL Number: 022\n",
        "a=1\n",
        "name=\"fogat\"\n",
        "print(\"Value of a is \", a)\n",
        "print(\"His name is \", name)\n",
        "#Ans: The expression-statements are:\n",
        "#print(\"Value of a is \"\", a)\n",
        "#print(\"His name is \", name)\n",
        "#The assignment-statement:\n",
        "#a=1\n",
        "#name=\"Ram\""
      ],
      "metadata": {
        "id": "M5kY53h_86eZ",
        "outputId": "7193c40c-d3d6-4908-db3c-809c076ca70c",
        "colab": {
          "base_uri": "https://localhost:8080/"
        }
      },
      "id": "M5kY53h_86eZ",
      "execution_count": 57,
      "outputs": [
        {
          "output_type": "stream",
          "name": "stdout",
          "text": [
            "Value of a is  1\n",
            "His name is  fogat\n"
          ]
        }
      ]
    },
    {
      "cell_type": "code",
      "source": [
        "#Q12 (a)\n",
        "#ROLL Number: 022\n",
        "x=10\n",
        "y=5\n",
        "z=x+y\n",
        "print(z)\n",
        "print(\"x+y=\", x+y)\n",
        "#The statement with a mathematical expression inside a function call:\n",
        "#print(\"x+y=\", x+y)"
      ],
      "metadata": {
        "id": "eNrqvFtb86hY",
        "outputId": "f462c2d8-4d40-4d70-c4a7-692f137dd5bf",
        "colab": {
          "base_uri": "https://localhost:8080/"
        }
      },
      "id": "eNrqvFtb86hY",
      "execution_count": 58,
      "outputs": [
        {
          "output_type": "stream",
          "name": "stdout",
          "text": [
            "15\n",
            "x+y= 15\n"
          ]
        }
      ]
    },
    {
      "cell_type": "code",
      "source": [
        "#Q12 (b)\n",
        "#ROLL Number: 022\n",
        "x=10\n",
        "y=5\n",
        "z=x-y\n",
        "print(z)\n",
        "print(\"x-y=\", x - y)\n"
      ],
      "metadata": {
        "id": "othuRe2D86kA",
        "outputId": "26d947b0-8d7b-4b7c-dab6-7066be44d685",
        "colab": {
          "base_uri": "https://localhost:8080/"
        }
      },
      "id": "othuRe2D86kA",
      "execution_count": 59,
      "outputs": [
        {
          "output_type": "stream",
          "name": "stdout",
          "text": [
            "5\n",
            "x-y= 5\n"
          ]
        }
      ]
    },
    {
      "cell_type": "code",
      "source": [
        "#Q12 (c)\n",
        "#ROLL Number: 022\n",
        "x=10\n",
        "y=5\n",
        "z=x*y\n",
        "print(z)\n",
        "print(\"x*y=\", x*y)"
      ],
      "metadata": {
        "id": "4twyFArB86nr",
        "outputId": "79ee5431-b64d-45a5-d091-3b810f83e89b",
        "colab": {
          "base_uri": "https://localhost:8080/"
        }
      },
      "id": "4twyFArB86nr",
      "execution_count": 60,
      "outputs": [
        {
          "output_type": "stream",
          "name": "stdout",
          "text": [
            "50\n",
            "x*y= 50\n"
          ]
        }
      ]
    },
    {
      "cell_type": "code",
      "source": [
        "#Q12 (d(\n",
        "#ROLL Number: 022\n",
        "x=13\n",
        "y=3\n",
        "print(\"x/y is\", x/y)\n",
        "print(\"x//y is\", x//y)"
      ],
      "metadata": {
        "id": "W0arOeus-Xkq",
        "outputId": "8e01068d-4763-4e4b-add2-c115b8392ab9",
        "colab": {
          "base_uri": "https://localhost:8080/"
        }
      },
      "id": "W0arOeus-Xkq",
      "execution_count": 61,
      "outputs": [
        {
          "output_type": "stream",
          "name": "stdout",
          "text": [
            "x/y is 4.333333333333333\n",
            "x//y is 4\n"
          ]
        }
      ]
    },
    {
      "cell_type": "code",
      "source": [
        "#Q12 (e)\n",
        "#ROLL Number: 022\n",
        "x=103\n",
        "y=5\n",
        "print(\"x%y=\", x%y)\n",
        "x=100\n",
        "y=5\n",
        "print(\"x%y=\", x%y)\n"
      ],
      "metadata": {
        "id": "EpWgNfjw-Xge",
        "outputId": "d57d9e05-ebee-4588-894b-e31dd6cee4d9",
        "colab": {
          "base_uri": "https://localhost:8080/"
        }
      },
      "id": "EpWgNfjw-Xge",
      "execution_count": 62,
      "outputs": [
        {
          "output_type": "stream",
          "name": "stdout",
          "text": [
            "x%y= 3\n",
            "x%y= 0\n"
          ]
        }
      ]
    },
    {
      "cell_type": "code",
      "source": [
        "#Q12 (f)\n",
        "#ROLL Number: 022\n",
        "x=15\n",
        "y=6\n",
        "print(\"x**y=\", x**y)\n"
      ],
      "metadata": {
        "id": "Mn0DDKBH-Xcj",
        "outputId": "c9295ff5-ccc5-4d19-84c3-c5bb2465ed86",
        "colab": {
          "base_uri": "https://localhost:8080/"
        }
      },
      "id": "Mn0DDKBH-Xcj",
      "execution_count": 63,
      "outputs": [
        {
          "output_type": "stream",
          "name": "stdout",
          "text": [
            "x**y= 11390625\n"
          ]
        }
      ]
    },
    {
      "cell_type": "code",
      "source": [
        "#Q13 (a)\n",
        "#ROLL Number: 022\n",
        "import math\n",
        "x=4.5467\n",
        "print(math.ceil(x))\n",
        "x=4.1467\n",
        "print(math.ceil(x))\n",
        "x=4\n",
        "print(math.ceil(x))\n",
        "x==4.5467\n",
        "print(math.ceil(x))\n"
      ],
      "metadata": {
        "id": "PGecXiC_-XYY",
        "outputId": "b036671c-05b3-4829-81d9-f8e7238887d0",
        "colab": {
          "base_uri": "https://localhost:8080/"
        }
      },
      "id": "PGecXiC_-XYY",
      "execution_count": 64,
      "outputs": [
        {
          "output_type": "stream",
          "name": "stdout",
          "text": [
            "5\n",
            "5\n",
            "4\n",
            "4\n"
          ]
        }
      ]
    },
    {
      "cell_type": "code",
      "source": [
        "#Q13 (b)\n",
        "#ROLL Number: 022\n",
        "import math\n",
        "x=4.5467\n",
        "print(math.floor(x))\n",
        "x=4.1467\n",
        "print(math.floor(x))\n",
        "x=4\n",
        "print(math.floor(x))\n",
        "x==4.5467\n",
        "print(math.floor(x))"
      ],
      "metadata": {
        "id": "MARkLepi-XUp",
        "outputId": "3c7b06f7-92cd-4493-94a0-2d9b65413baa",
        "colab": {
          "base_uri": "https://localhost:8080/"
        }
      },
      "id": "MARkLepi-XUp",
      "execution_count": 65,
      "outputs": [
        {
          "output_type": "stream",
          "name": "stdout",
          "text": [
            "4\n",
            "4\n",
            "4\n",
            "4\n"
          ]
        }
      ]
    },
    {
      "cell_type": "code",
      "source": [
        "#Q14\n",
        "#ROLL Number: 022\n",
        "integer=-20\n",
        "print(\"Absolute value of -20 is:\", abs(integer))\n",
        "floating=-30.33\n",
        "print(\"Absolute value of -30.33 is:\", abs(floating))\n"
      ],
      "metadata": {
        "id": "hI28f4ww-XQ0",
        "outputId": "6d823132-113d-4ef6-bfe8-999d0004a188",
        "colab": {
          "base_uri": "https://localhost:8080/"
        }
      },
      "id": "hI28f4ww-XQ0",
      "execution_count": 66,
      "outputs": [
        {
          "output_type": "stream",
          "name": "stdout",
          "text": [
            "Absolute value of -20 is: 20\n",
            "Absolute value of -30.33 is: 30.33\n"
          ]
        }
      ]
    },
    {
      "cell_type": "code",
      "source": [
        "#Q15 (a)\n",
        "#ROLL Number: 022\n",
        "a=33.22\n",
        "b=300\n",
        "if b>a:\n",
        " print(\"b is greater than a\")\n"
      ],
      "metadata": {
        "id": "3QBJf_4M-XNQ",
        "outputId": "70ecaa5a-c752-4a5d-f676-5e3dd278cf56",
        "colab": {
          "base_uri": "https://localhost:8080/"
        }
      },
      "id": "3QBJf_4M-XNQ",
      "execution_count": 67,
      "outputs": [
        {
          "output_type": "stream",
          "name": "stdout",
          "text": [
            "b is greater than a\n"
          ]
        }
      ]
    },
    {
      "cell_type": "code",
      "source": [
        "#Q15 (b)\n",
        "#ROLL Number: 022\n",
        "a=300\n",
        "b=33.22\n",
        "if b>a:\n",
        " print(\"b is greater than a\")\n"
      ],
      "metadata": {
        "id": "aJ6-7ldS-XJD"
      },
      "id": "aJ6-7ldS-XJD",
      "execution_count": 68,
      "outputs": []
    },
    {
      "cell_type": "code",
      "source": [
        "#15 (c)\n",
        "#ROLL Number: 022\n",
        "a=33\n",
        "b=33\n",
        "if b>a:\n",
        " print(\"b is greater than a\")\n",
        "elif a==b:\n",
        " print(\"a and b are equal\")"
      ],
      "metadata": {
        "id": "p0RMYVIn-XFp",
        "outputId": "0eb87678-a01e-4868-cb7f-52da20ddb412",
        "colab": {
          "base_uri": "https://localhost:8080/"
        }
      },
      "id": "p0RMYVIn-XFp",
      "execution_count": 69,
      "outputs": [
        {
          "output_type": "stream",
          "name": "stdout",
          "text": [
            "a and b are equal\n"
          ]
        }
      ]
    },
    {
      "cell_type": "code",
      "source": [
        "#Q15 (d)\n",
        "#ROLL Number: 022\n",
        "a=200\n",
        "b=33\n",
        "if b>a:\n",
        " print(\"b is greater than a\")\n",
        "elif a==b:\n",
        " print(\"a and b are equal\")\n",
        "else:\n",
        " print(\"a is greater than b\")"
      ],
      "metadata": {
        "id": "-b2_JcBh-XCY",
        "outputId": "9761476d-790d-41ab-de98-46568dc092d3",
        "colab": {
          "base_uri": "https://localhost:8080/"
        }
      },
      "id": "-b2_JcBh-XCY",
      "execution_count": 70,
      "outputs": [
        {
          "output_type": "stream",
          "name": "stdout",
          "text": [
            "a is greater than b\n"
          ]
        }
      ]
    },
    {
      "cell_type": "code",
      "source": [
        "'''CODECHEF QUESTIONS :\n",
        "Q1\n",
        "RoLL Number: 022\n",
        "1. START.\n",
        "2. Read input numbers X, Y and Z.\n",
        "3. Initialize T=X-Y+Z.\n",
        "4. Display T.\n",
        "5. END'''\n",
        "X = int(input(\"Enter the total population of the town\"))\n",
        "Y = int(input(\"Enter the no. of people left the town\"))\n",
        "Z= int(input(\"Enter the no. of people migrated to the town\"))\n",
        "T= X - Y + Z\n",
        "print(f\"The final population of the town is {T} million\")\n"
      ],
      "metadata": {
        "id": "_g3pB24y-Wz5",
        "outputId": "386829fe-343f-4e57-ec3d-172b14961b31",
        "colab": {
          "base_uri": "https://localhost:8080/"
        }
      },
      "id": "_g3pB24y-Wz5",
      "execution_count": 71,
      "outputs": [
        {
          "output_type": "stream",
          "name": "stdout",
          "text": [
            "Enter the total population of the town10\n",
            "Enter the no. of people left the town5\n",
            "Enter the no. of people migrated to the town5\n",
            "The final population of the town is 10 million\n"
          ]
        }
      ]
    },
    {
      "cell_type": "code",
      "source": [
        "'''ROLL Number: 022\n",
        "1. START.\n",
        "2. Import math module.\n",
        "3. Read the input number N.\n",
        "4. Initialize T=N/10.\n",
        "5. Display T.\n",
        "6. END'''\n",
        "import math\n",
        "N = int(input(\"Total item bought from shop\"))\n",
        "T=N/ 10\n",
        "print(\"You need\", math.ceil(T), \"Polybags\")"
      ],
      "metadata": {
        "id": "AOI5Hjk8---2",
        "outputId": "6c3813f7-4853-42ae-ba1d-1eb15fee1f35",
        "colab": {
          "base_uri": "https://localhost:8080/"
        }
      },
      "id": "AOI5Hjk8---2",
      "execution_count": 74,
      "outputs": [
        {
          "output_type": "stream",
          "name": "stdout",
          "text": [
            "Total item bought from shop5\n",
            "You need 1 Polybags\n"
          ]
        }
      ]
    },
    {
      "cell_type": "code",
      "source": [
        "'''Q3\n",
        "ROLL Number: 022\n",
        "1. START.\n",
        "2. Read the input numbers x and y.\n",
        "3. Initialize a=x//2.\n",
        "4. if a>y, display y.\n",
        "5. if a<y, display a.\n",
        "6. END.'''\n",
        "x=int(input(\"Enter no. of bananas:\"))\n",
        "y=int(input(\"Enter no. of apples:\"))\n",
        "a=x//2\n",
        "if a>y:\n",
        " print(\"The no. of chaats:\", y)\n",
        "else:\n",
        " print(\"The no. of chaats:\", a)"
      ],
      "metadata": {
        "id": "eBvF4028_KV6",
        "outputId": "a717dbcb-3d58-4d1a-ae30-ac24cb101256",
        "colab": {
          "base_uri": "https://localhost:8080/"
        }
      },
      "id": "eBvF4028_KV6",
      "execution_count": 75,
      "outputs": [
        {
          "output_type": "stream",
          "name": "stdout",
          "text": [
            "Enter no. of bananas:12\n",
            "Enter no. of apples:2\n",
            "The no. of chaats: 2\n"
          ]
        }
      ]
    },
    {
      "cell_type": "code",
      "source": [
        "6\n",
        "'''Q5\n",
        "ROLL Number: 022\n",
        "1. START.\n",
        "2. Read the input number a, b and k.\n",
        "3. Initialize z=a-b, x=abs(z), y=x/k and ans=math.ceil(y).\n",
        "4. Display ans.\n",
        "5. END.'''\n",
        "a=int(input(\"Enter chef's coordinate:\"))\n",
        "b=int(input(\"Enter chefina's coordinate:\"))\n",
        "k=int(input(\"Enter no. of steps chef can take at a time:\"))\n",
        "z=a-b\n",
        "x=abs(z)\n",
        "y=x/k\n",
        "ans=math.ceil(y)\n",
        "print(\"The total steps:\", ans)"
      ],
      "metadata": {
        "id": "t4e2lVU0_Or9",
        "outputId": "5d08c59d-83db-47d6-94cf-ab122f54d187",
        "colab": {
          "base_uri": "https://localhost:8080/"
        }
      },
      "id": "t4e2lVU0_Or9",
      "execution_count": 77,
      "outputs": [
        {
          "output_type": "stream",
          "name": "stdout",
          "text": [
            "Enter chef's coordinate:10\n",
            "Enter chefina's coordinate:5\n",
            "Enter no. of steps chef can take at a time:6\n",
            "The total steps: 1\n"
          ]
        }
      ]
    },
    {
      "cell_type": "code",
      "source": [
        "'''Q6\n",
        "ROLL Number: 022\n",
        "1. START\n",
        "2. Read the input numbers n and x.\n",
        "3. Initialize a=n//x and b=a//3.\n",
        "4. Display b.\n",
        "5. END.'''\n",
        "n=int(input(\"Enter journey time in min:\"))\n",
        "x=int(input(\"Enter time for a song to complete:\"))\n",
        "a=n//x\n",
        "b=a//3\n",
        "print(\"The no. of times song c played:\", b)\n"
      ],
      "metadata": {
        "id": "3FRcfPIA_Pba",
        "outputId": "48b80234-5577-4b34-c9cf-94dfea59813e",
        "colab": {
          "base_uri": "https://localhost:8080/"
        }
      },
      "id": "3FRcfPIA_Pba",
      "execution_count": 78,
      "outputs": [
        {
          "output_type": "stream",
          "name": "stdout",
          "text": [
            "Enter journey time in min:5\n",
            "Enter time for a song to complete:32\n",
            "The no. of times song c played: 0\n"
          ]
        }
      ]
    }
  ],
  "metadata": {
    "kernelspec": {
      "display_name": "Python 3",
      "name": "python3"
    },
    "language_info": {
      "name": "python"
    },
    "required_libs": [],
    "colab": {
      "provenance": []
    }
  },
  "nbformat": 4,
  "nbformat_minor": 5
}